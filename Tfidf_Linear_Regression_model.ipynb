{
 "cells": [
  {
   "cell_type": "code",
   "execution_count": 1,
   "metadata": {
    "collapsed": true
   },
   "outputs": [],
   "source": [
    "%matplotlib inline"
   ]
  },
  {
   "cell_type": "code",
   "execution_count": 14,
   "metadata": {
    "collapsed": true
   },
   "outputs": [],
   "source": [
    "# overwrite ipython defaults\n",
    "plt.rcParams[\"figure.facecolor\"] = '17344A'\n",
    "plt.rcParams[\"axes.facecolor\"] = '17344A'\n",
    "plt.rcParams[\"figure.figsize\"] = (10, 8)"
   ]
  },
  {
   "cell_type": "code",
   "execution_count": 2,
   "metadata": {
    "collapsed": true
   },
   "outputs": [],
   "source": [
    "from IPython import display\n",
    "import numpy as np\n",
    "import pandas as pd"
   ]
  },
  {
   "cell_type": "code",
   "execution_count": 3,
   "metadata": {
    "collapsed": true
   },
   "outputs": [],
   "source": [
    "import matplotlib.pyplot as plt"
   ]
  },
  {
   "cell_type": "code",
   "execution_count": 4,
   "metadata": {
    "collapsed": true
   },
   "outputs": [],
   "source": [
    "import warnings"
   ]
  },
  {
   "cell_type": "code",
   "execution_count": 5,
   "metadata": {
    "collapsed": true
   },
   "outputs": [],
   "source": [
    "warnings.filterwarnings(\"ignore\")"
   ]
  },
  {
   "cell_type": "code",
   "execution_count": 7,
   "metadata": {
    "collapsed": false
   },
   "outputs": [
    {
     "data": {
      "text/plain": [
       "'/home/ubuntu/kaggle/yelp'"
      ]
     },
     "execution_count": 7,
     "metadata": {},
     "output_type": "execute_result"
    }
   ],
   "source": [
    "import os\n",
    "os.chdir(\"/home/ubuntu/kaggle/yelp\")\n",
    "os.getcwd()"
   ]
  },
  {
   "cell_type": "code",
   "execution_count": 8,
   "metadata": {
    "collapsed": false
   },
   "outputs": [
    {
     "name": "stdout",
     "output_type": "stream",
     "text": [
      "91627a02-ff6a-4fcb-96eb-72c6abca7515.zip\r\n",
      "PhaseIISubmissionFormat.csv\r\n",
      "restaurant_ids_to_yelp_ids.csv\r\n",
      "SubmissionFormat.csv\r\n",
      "train_labels.csv\r\n",
      "yelp_boston_academic_dataset_updated\r\n",
      "yelp_boston_academic_dataset_updated.tar\r\n"
     ]
    }
   ],
   "source": [
    "!ls "
   ]
  },
  {
   "cell_type": "code",
   "execution_count": 9,
   "metadata": {
    "collapsed": false
   },
   "outputs": [
    {
     "name": "stdout",
     "output_type": "stream",
     "text": [
      "{\"votes\": {\"funny\": 0, \"useful\": 0, \"cool\": 0}, \"user_id\": \"P_Mk0ygOilLJo4_WEvabAA\", \"review_id\": \"OeT5kgUOe3vcN7H6ImVmZQ\", \"stars\": 3, \"date\": \"2005-08-26\", \"text\": \"This is a pretty typical cafe.  The sandwiches and wraps are good but a little overpriced and the food items are the same.  The chicken caesar salad wrap is my favorite here but everything else is pretty much par for the course.\", \"type\": \"review\", \"business_id\": \"Jp9svt7sRT4zwdbzQ8KQmw\"}\r\n"
     ]
    }
   ],
   "source": [
    "! head -n 1 yelp_boston_academic_dataset_updated/yelp_academic_dataset_review.json"
   ]
  },
  {
   "cell_type": "code",
   "execution_count": 10,
   "metadata": {
    "collapsed": true
   },
   "outputs": [],
   "source": [
    "id_map = pd.read_csv('restaurant_ids_to_yelp_ids.csv')\n",
    "id_dict = {}\n",
    "\n",
    "#each yelp ID may correspond to up to 4 Boston IDs\n",
    "for i,row in id_map.iterrows():\n",
    "    #get the Boston ID\n",
    "    boston_id = row['restaurant_id']\n",
    "    \n",
    "    #get the non-null yelp IDs\n",
    "    non_null_mask = ~pd.isnull(row.ix[1:])\n",
    "    yelp_ids = row[1:][non_null_mask].values\n",
    "    \n",
    "    for yelp_id in yelp_ids:\n",
    "        id_dict[yelp_id]=boston_id"
   ]
  },
  {
   "cell_type": "code",
   "execution_count": 11,
   "metadata": {
    "collapsed": false
   },
   "outputs": [
    {
     "data": {
      "text/html": [
       "<div>\n",
       "<table border=\"1\" class=\"dataframe\">\n",
       "  <thead>\n",
       "    <tr style=\"text-align: right;\">\n",
       "      <th></th>\n",
       "      <th>restaurant_id</th>\n",
       "      <th>date</th>\n",
       "      <th>stars</th>\n",
       "      <th>text</th>\n",
       "    </tr>\n",
       "  </thead>\n",
       "  <tbody>\n",
       "    <tr>\n",
       "      <th>0</th>\n",
       "      <td>N6Ok7qOx</td>\n",
       "      <td>2005-08-26</td>\n",
       "      <td>3</td>\n",
       "      <td>This is a pretty typical cafe.  The sandwiches...</td>\n",
       "    </tr>\n",
       "    <tr>\n",
       "      <th>1</th>\n",
       "      <td>N6Ok7qOx</td>\n",
       "      <td>2005-11-23</td>\n",
       "      <td>3</td>\n",
       "      <td>I agree with other reviewers - this is a prett...</td>\n",
       "    </tr>\n",
       "    <tr>\n",
       "      <th>2</th>\n",
       "      <td>N6Ok7qOx</td>\n",
       "      <td>2005-11-23</td>\n",
       "      <td>3</td>\n",
       "      <td>Decent enough food, but very overpriced. Just ...</td>\n",
       "    </tr>\n",
       "    <tr>\n",
       "      <th>3</th>\n",
       "      <td>N6Ok7qOx</td>\n",
       "      <td>2006-02-24</td>\n",
       "      <td>5</td>\n",
       "      <td>The muffins are great...esp the blueberry!  I ...</td>\n",
       "    </tr>\n",
       "    <tr>\n",
       "      <th>4</th>\n",
       "      <td>N6Ok7qOx</td>\n",
       "      <td>2007-09-06</td>\n",
       "      <td>3</td>\n",
       "      <td>Well, well, well, look at me reviewing the res...</td>\n",
       "    </tr>\n",
       "  </tbody>\n",
       "</table>\n",
       "</div>"
      ],
      "text/plain": [
       "  restaurant_id       date  stars  \\\n",
       "0      N6Ok7qOx 2005-08-26      3   \n",
       "1      N6Ok7qOx 2005-11-23      3   \n",
       "2      N6Ok7qOx 2005-11-23      3   \n",
       "3      N6Ok7qOx 2006-02-24      5   \n",
       "4      N6Ok7qOx 2007-09-06      3   \n",
       "\n",
       "                                                text  \n",
       "0  This is a pretty typical cafe.  The sandwiches...  \n",
       "1  I agree with other reviewers - this is a prett...  \n",
       "2  Decent enough food, but very overpriced. Just ...  \n",
       "3  The muffins are great...esp the blueberry!  I ...  \n",
       "4  Well, well, well, look at me reviewing the res...  "
      ]
     },
     "execution_count": 11,
     "metadata": {},
     "output_type": "execute_result"
    }
   ],
   "source": [
    "with open(\"yelp_boston_academic_dataset_updated/yelp_academic_dataset_review.json\",'rt') as review_file:\n",
    "    review_json = '[' + ','.join(review_file.readlines()) + ']'\n",
    "    \n",
    "#read in the json as a DataFrame\n",
    "reviews = pd.read_json(review_json)\n",
    "\n",
    "#drop columns that we won't use\n",
    "reviews.drop(['review_id','type','user_id','votes'],inplace=True, axis=1)\n",
    "\n",
    "#replace yelp business_id with boston restaurant id\n",
    "map_to_boston_ids = lambda yelp_id: id_dict[yelp_id] if yelp_id in id_dict else np.nan\n",
    "reviews.business_id = reviews.business_id.map(map_to_boston_ids)\n",
    "\n",
    "#rename first column to restaurant_id so we can join with boston data\n",
    "reviews.columns = [\"restaurant_id\",\"date\",\"stars\",\"text\"]\n",
    "\n",
    "#drop restaurants not found in boston data\n",
    "reviews = reviews[pd.notnull(reviews.restaurant_id)]\n",
    "\n",
    "reviews.head()"
   ]
  },
  {
   "cell_type": "code",
   "execution_count": 12,
   "metadata": {
    "collapsed": false
   },
   "outputs": [
    {
     "data": {
      "text/html": [
       "<div>\n",
       "<table border=\"1\" class=\"dataframe\">\n",
       "  <thead>\n",
       "    <tr style=\"text-align: right;\">\n",
       "      <th></th>\n",
       "      <th>date</th>\n",
       "      <th>restaurant_id</th>\n",
       "      <th>*</th>\n",
       "      <th>**</th>\n",
       "      <th>***</th>\n",
       "    </tr>\n",
       "    <tr>\n",
       "      <th>id</th>\n",
       "      <th></th>\n",
       "      <th></th>\n",
       "      <th></th>\n",
       "      <th></th>\n",
       "      <th></th>\n",
       "    </tr>\n",
       "  </thead>\n",
       "  <tbody>\n",
       "    <tr>\n",
       "      <th>589</th>\n",
       "      <td>2010-02-02</td>\n",
       "      <td>KAoKWjog</td>\n",
       "      <td>3</td>\n",
       "      <td>0</td>\n",
       "      <td>1</td>\n",
       "    </tr>\n",
       "    <tr>\n",
       "      <th>28589</th>\n",
       "      <td>2009-12-10</td>\n",
       "      <td>p038M4om</td>\n",
       "      <td>2</td>\n",
       "      <td>0</td>\n",
       "      <td>0</td>\n",
       "    </tr>\n",
       "    <tr>\n",
       "      <th>31170</th>\n",
       "      <td>2008-07-16</td>\n",
       "      <td>B1oXymOV</td>\n",
       "      <td>4</td>\n",
       "      <td>0</td>\n",
       "      <td>0</td>\n",
       "    </tr>\n",
       "    <tr>\n",
       "      <th>2600</th>\n",
       "      <td>2015-01-30</td>\n",
       "      <td>m0oWJl3G</td>\n",
       "      <td>1</td>\n",
       "      <td>0</td>\n",
       "      <td>3</td>\n",
       "    </tr>\n",
       "    <tr>\n",
       "      <th>1016</th>\n",
       "      <td>2012-03-19</td>\n",
       "      <td>rJoQwlEV</td>\n",
       "      <td>0</td>\n",
       "      <td>0</td>\n",
       "      <td>0</td>\n",
       "    </tr>\n",
       "  </tbody>\n",
       "</table>\n",
       "</div>"
      ],
      "text/plain": [
       "             date restaurant_id  *  **  ***\n",
       "id                                         \n",
       "589    2010-02-02      KAoKWjog  3   0    1\n",
       "28589  2009-12-10      p038M4om  2   0    0\n",
       "31170  2008-07-16      B1oXymOV  4   0    0\n",
       "2600   2015-01-30      m0oWJl3G  1   0    3\n",
       "1016   2012-03-19      rJoQwlEV  0   0    0"
      ]
     },
     "execution_count": 12,
     "metadata": {},
     "output_type": "execute_result"
    }
   ],
   "source": [
    "train_labels = pd.read_csv('train_labels.csv', index_col=0)\n",
    "submission = pd.read_csv('SubmissionFormat.csv',index_col=0)\n",
    "train_labels.head()"
   ]
  },
  {
   "cell_type": "code",
   "execution_count": 15,
   "metadata": {
    "collapsed": false
   },
   "outputs": [
    {
     "data": {
      "image/png": "[encoded data removed]",
      "text/plain": [
       "<matplotlib.figure.Figure at 0x7fec2c52ba90>"
      ]
     },
     "metadata": {},
     "output_type": "display_data"
    }
   ],
   "source": [
    "fig, axs = plt.subplots(3, 1)\n",
    "fig.set_size_inches(12, 8)\n",
    "\n",
    "for i, label in enumerate(['*', '**', '***']):\n",
    "    data = train_labels[label]\n",
    "    vc = data.value_counts()\n",
    "    idxs = sorted(vc.index)\n",
    "    vc[idxs].plot(kind=\"bar\",\n",
    "                  ax=axs[i],\n",
    "                  xlim=(-1, 15),\n",
    "                  color=plt.rcParams['axes.color_cycle'][i],\n",
    "                  grid=False,\n",
    "                  label='Level {} violations'.format(label))\n",
    "    axs[i].legend()"
   ]
  },
  {
   "cell_type": "code",
   "execution_count": 16,
   "metadata": {
    "collapsed": true
   },
   "outputs": [],
   "source": [
    "def flatten_reviews(label_df, reviews):\n",
    "    \"\"\"label_df:inspection dataframe with date, restaurant_id \n",
    "        reviews: dataframe of reviews\n",
    "        \n",
    "        Returns all of the text of reviews previous to each \n",
    "        inspection listed in label_df\n",
    "    \"\"\"\n",
    "    \n",
    "    reviews_dictionary = {}\n",
    "    N = len(label_df)\n",
    "    \n",
    "    for i, (pid, row) in enumerate(label_df.iterrows()):\n",
    "        # we want to only get reviews for this restaurant that occured before the inspection\n",
    "        pre_inspection_mask = (reviews.date < row.date) & (reviews.restaurant_id == row.restaurant_id)\n",
    "        \n",
    "        #pre-inspection reviews\n",
    "        pre_inspection_reviews = reviews[pre_inspection_mask]\n",
    "        \n",
    "        #join the text\n",
    "        all_text = ' '.join(pre_inspection_reviews.text)\n",
    "        \n",
    "        #store in a dictionary\n",
    "        reviews_dictionary[pid] = all_text\n",
    "        \n",
    "        if i%2500 ==0:\n",
    "            print ('{} out of {}'.format(i,N))\n",
    "    \n",
    "    #return series in same order as the original data frame\n",
    "    return pd.Series(reviews_dictionary)[label_df.index]"
   ]
  },
  {
   "cell_type": "code",
   "execution_count": 17,
   "metadata": {
    "collapsed": false
   },
   "outputs": [
    {
     "name": "stdout",
     "output_type": "stream",
     "text": [
      "0 out of 27088\n",
      "2500 out of 27088\n",
      "5000 out of 27088\n",
      "7500 out of 27088\n",
      "10000 out of 27088\n",
      "12500 out of 27088\n",
      "15000 out of 27088\n",
      "17500 out of 27088\n",
      "20000 out of 27088\n",
      "22500 out of 27088\n",
      "25000 out of 27088\n"
     ]
    },
    {
     "data": {
      "text/plain": [
       "id\n",
       "589      i'm posting this review on behalf of my boyfri...\n",
       "28589    A great addition to Peabody Square! It is an u...\n",
       "31170    This is definitely the best place to eat in Bo...\n",
       "2600     Well, it's nothing spectacular, but if you're ...\n",
       "1016     The thinking cup has a great atmosphere, I wou...\n",
       "dtype: object"
      ]
     },
     "execution_count": 17,
     "metadata": {},
     "output_type": "execute_result"
    }
   ],
   "source": [
    "train_text = flatten_reviews(train_labels, reviews)\n",
    "train_text.head()"
   ]
  },
  {
   "cell_type": "code",
   "execution_count": 18,
   "metadata": {
    "collapsed": false
   },
   "outputs": [
    {
     "name": "stdout",
     "output_type": "stream",
     "text": [
      "0 out of 6772\n",
      "2500 out of 6772\n",
      "5000 out of 6772\n"
     ]
    },
    {
     "data": {
      "text/plain": [
       "id\n",
       "14916    I've walked by this place a lot and always won...\n",
       "29767    You pick up a lunch tray when you walk in and ...\n",
       "29338    Punjab Palace is the new Allston-area restaura...\n",
       "7219     Every first year student at Northeastern Unive...\n",
       "20979    Honestly, subpar.  Same greasy, tasty food as ...\n",
       "dtype: object"
      ]
     },
     "execution_count": 18,
     "metadata": {},
     "output_type": "execute_result"
    }
   ],
   "source": [
    "test_text =flatten_reviews(submission,reviews)\n",
    "test_text.head()"
   ]
  },
  {
   "cell_type": "code",
   "execution_count": 20,
   "metadata": {
    "collapsed": false
   },
   "outputs": [],
   "source": [
    "from sklearn.feature_extraction.text import TfidfVectorizer\n",
    "\n",
    "#Create a TfidfVectorizer object with english stop words \n",
    "# and a maximum of 1500 features (to ensure that we can train model \n",
    "# in a reasonable amount of time).\n",
    "vec = TfidfVectorizer(stop_words='english', max_features=1750, use_idf = True)\n",
    "\n",
    "# Create the Tfidf feature matrix from the raw text\n",
    "train_tfidf = vec.fit_transform(train_text)"
   ]
  },
  {
   "cell_type": "code",
   "execution_count": 23,
   "metadata": {
    "collapsed": false
   },
   "outputs": [
    {
     "data": {
      "text/html": [
       "<div>\n",
       "<table border=\"1\" class=\"dataframe\">\n",
       "  <thead>\n",
       "    <tr style=\"text-align: right;\">\n",
       "      <th></th>\n",
       "      <th>addition</th>\n",
       "      <th>admit</th>\n",
       "      <th>advice</th>\n",
       "      <th>affordable</th>\n",
       "      <th>afternoon</th>\n",
       "      <th>ago</th>\n",
       "      <th>agree</th>\n",
       "      <th>agreed</th>\n",
       "      <th>ahead</th>\n",
       "      <th>air</th>\n",
       "      <th>al</th>\n",
       "      <th>alcohol</th>\n",
       "      <th>allowed</th>\n",
       "      <th>allston</th>\n",
       "      <th>alright</th>\n",
       "    </tr>\n",
       "  </thead>\n",
       "  <tbody>\n",
       "    <tr>\n",
       "      <th>0</th>\n",
       "      <td>0.000000</td>\n",
       "      <td>0.000000</td>\n",
       "      <td>0.000000</td>\n",
       "      <td>0.000000</td>\n",
       "      <td>0.000000</td>\n",
       "      <td>0.000000</td>\n",
       "      <td>0.000000</td>\n",
       "      <td>0.000000</td>\n",
       "      <td>0.048830</td>\n",
       "      <td>0.000000</td>\n",
       "      <td>0.000000</td>\n",
       "      <td>0.000000</td>\n",
       "      <td>0</td>\n",
       "      <td>0</td>\n",
       "      <td>0.000000</td>\n",
       "    </tr>\n",
       "    <tr>\n",
       "      <th>1</th>\n",
       "      <td>0.040770</td>\n",
       "      <td>0.000000</td>\n",
       "      <td>0.000000</td>\n",
       "      <td>0.020733</td>\n",
       "      <td>0.000000</td>\n",
       "      <td>0.000000</td>\n",
       "      <td>0.000000</td>\n",
       "      <td>0.000000</td>\n",
       "      <td>0.010613</td>\n",
       "      <td>0.000000</td>\n",
       "      <td>0.000000</td>\n",
       "      <td>0.000000</td>\n",
       "      <td>0</td>\n",
       "      <td>0</td>\n",
       "      <td>0.000000</td>\n",
       "    </tr>\n",
       "    <tr>\n",
       "      <th>2</th>\n",
       "      <td>0.000000</td>\n",
       "      <td>0.000000</td>\n",
       "      <td>0.000000</td>\n",
       "      <td>0.018041</td>\n",
       "      <td>0.016143</td>\n",
       "      <td>0.000000</td>\n",
       "      <td>0.000000</td>\n",
       "      <td>0.000000</td>\n",
       "      <td>0.000000</td>\n",
       "      <td>0.000000</td>\n",
       "      <td>0.000000</td>\n",
       "      <td>0.000000</td>\n",
       "      <td>0</td>\n",
       "      <td>0</td>\n",
       "      <td>0.000000</td>\n",
       "    </tr>\n",
       "    <tr>\n",
       "      <th>3</th>\n",
       "      <td>0.005518</td>\n",
       "      <td>0.000000</td>\n",
       "      <td>0.000000</td>\n",
       "      <td>0.009354</td>\n",
       "      <td>0.001674</td>\n",
       "      <td>0.007052</td>\n",
       "      <td>0.003498</td>\n",
       "      <td>0.000000</td>\n",
       "      <td>0.001915</td>\n",
       "      <td>0.000000</td>\n",
       "      <td>0.000000</td>\n",
       "      <td>0.002047</td>\n",
       "      <td>0</td>\n",
       "      <td>0</td>\n",
       "      <td>0.003652</td>\n",
       "    </tr>\n",
       "    <tr>\n",
       "      <th>4</th>\n",
       "      <td>0.018684</td>\n",
       "      <td>0.007248</td>\n",
       "      <td>0.004564</td>\n",
       "      <td>0.005701</td>\n",
       "      <td>0.023804</td>\n",
       "      <td>0.002865</td>\n",
       "      <td>0.000000</td>\n",
       "      <td>0.002322</td>\n",
       "      <td>0.001946</td>\n",
       "      <td>0.014144</td>\n",
       "      <td>0.002514</td>\n",
       "      <td>0.000000</td>\n",
       "      <td>0</td>\n",
       "      <td>0</td>\n",
       "      <td>0.000000</td>\n",
       "    </tr>\n",
       "  </tbody>\n",
       "</table>\n",
       "</div>"
      ],
      "text/plain": [
       "   addition     admit    advice  affordable  afternoon       ago     agree  \\\n",
       "0  0.000000  0.000000  0.000000    0.000000   0.000000  0.000000  0.000000   \n",
       "1  0.040770  0.000000  0.000000    0.020733   0.000000  0.000000  0.000000   \n",
       "2  0.000000  0.000000  0.000000    0.018041   0.016143  0.000000  0.000000   \n",
       "3  0.005518  0.000000  0.000000    0.009354   0.001674  0.007052  0.003498   \n",
       "4  0.018684  0.007248  0.004564    0.005701   0.023804  0.002865  0.000000   \n",
       "\n",
       "     agreed     ahead       air        al   alcohol  allowed  allston  \\\n",
       "0  0.000000  0.048830  0.000000  0.000000  0.000000        0        0   \n",
       "1  0.000000  0.010613  0.000000  0.000000  0.000000        0        0   \n",
       "2  0.000000  0.000000  0.000000  0.000000  0.000000        0        0   \n",
       "3  0.000000  0.001915  0.000000  0.000000  0.002047        0        0   \n",
       "4  0.002322  0.001946  0.014144  0.002514  0.000000        0        0   \n",
       "\n",
       "    alright  \n",
       "0  0.000000  \n",
       "1  0.000000  \n",
       "2  0.000000  \n",
       "3  0.003652  \n",
       "4  0.000000  "
      ]
     },
     "execution_count": 23,
     "metadata": {},
     "output_type": "execute_result"
    }
   ],
   "source": [
    "pd.DataFrame(data=train_tfidf.todense(), columns=vec.get_feature_names()).iloc[:5,30:45]"
   ]
  },
  {
   "cell_type": "code",
   "execution_count": 24,
   "metadata": {
    "collapsed": false
   },
   "outputs": [
    {
     "data": {
      "text/plain": [
       "(27088, 1750)"
      ]
     },
     "execution_count": 24,
     "metadata": {},
     "output_type": "execute_result"
    }
   ],
   "source": [
    "train_tfidf.shape"
   ]
  },
  {
   "cell_type": "code",
   "execution_count": 31,
   "metadata": {
    "collapsed": false
   },
   "outputs": [
    {
     "data": {
      "text/plain": [
       "LinearRegression(copy_X=True, fit_intercept=True, n_jobs=-1, normalize=False)"
      ]
     },
     "execution_count": 31,
     "metadata": {},
     "output_type": "execute_result"
    }
   ],
   "source": [
    "from sklearn import linear_model\n",
    "\n",
    "#get just the targets from the training lables\n",
    "train_targets = train_labels[['*','**','***']].astype(np.float64)\n",
    "\n",
    "#create a linear regression object\n",
    "ols = linear_model.LinearRegression(n_jobs=-1)\n",
    "\n",
    "#fit that object on the training TfIdf matrix and the target variables\n",
    "ols.fit(train_tfidf, train_targets)"
   ]
  },
  {
   "cell_type": "code",
   "execution_count": 34,
   "metadata": {
    "collapsed": false
   },
   "outputs": [
    {
     "data": {
      "text/html": [
       "<table><th>More Violations</th><th>Fewer Violations</th><tbody><tr><td>absolute</td><td>appreciated</td></tr>\n",
       "<tr><td>actual</td><td>basement</td></tr>\n",
       "<tr><td>add</td><td>bed</td></tr>\n",
       "<tr><td>advice</td><td>bigger</td></tr>\n",
       "<tr><td>affordable</td><td>bone</td></tr>\n",
       "<tr><td>air</td><td>checking</td></tr>\n",
       "<tr><td>arrived</td><td>complain</td></tr>\n",
       "<tr><td>atmosphere</td><td>concept</td></tr>\n",
       "<tr><td>balance</td><td>consistency</td></tr>\n",
       "<tr><td>ball</td><td>conversation</td></tr>\n",
       "<tr><td>basically</td><td>cooking</td></tr>\n",
       "<tr><td>beat</td><td>covered</td></tr>\n",
       "<tr><td>bits</td><td>cups</td></tr>\n",
       "<tr><td>bottles</td><td>dates</td></tr>\n",
       "<tr><td>bowls</td><td>decorated</td></tr>\n",
       "<tr><td>boy</td><td>didnt</td></tr>\n",
       "<tr><td>cinnamon</td><td>doing</td></tr>\n",
       "<tr><td>cod</td><td>doors</td></tr>\n",
       "<tr><td>confused</td><td>dozen</td></tr>\n",
       "<tr><td>consider</td><td>dress</td></tr>\n",
       "<tr><td>constantly</td><td>easily</td></tr>\n",
       "<tr><td>creative</td><td>england</td></tr>\n",
       "<tr><td>crowds</td><td>enjoying</td></tr>\n",
       "<tr><td>diners</td><td>expectations</td></tr>\n",
       "<tr><td>disappoint</td><td>fair</td></tr>\n",
       "<tr><td>discovered</td><td>flavored</td></tr>\n",
       "<tr><td>exceptional</td><td>foie</td></tr>\n",
       "<tr><td>eye</td><td>frequent</td></tr>\n",
       "<tr><td>feeling</td><td>gift</td></tr>\n",
       "<tr><td>form</td><td>glad</td></tr>\n",
       "<tr><td>gem</td><td>glasses</td></tr>\n",
       "<tr><td>gives</td><td>gonna</td></tr>\n",
       "<tr><td>granted</td><td>goodness</td></tr>\n",
       "<tr><td>grease</td><td>groups</td></tr>\n",
       "<tr><td>groupon</td><td>headed</td></tr>\n",
       "<tr><td>hanging</td><td>helpful</td></tr>\n",
       "<tr><td>hardly</td><td>ignored</td></tr>\n",
       "<tr><td>heavy</td><td>intimate</td></tr>\n",
       "<tr><td>hell</td><td>ish</td></tr>\n",
       "<tr><td>hoping</td><td>job</td></tr>\n",
       "<tr><td>hype</td><td>knowing</td></tr>\n",
       "<tr><td>leaving</td><td>lacking</td></tr>\n",
       "<tr><td>leftovers</td><td>lighting</td></tr>\n",
       "<tr><td>likes</td><td>luck</td></tr>\n",
       "<tr><td>located</td><td>maybe</td></tr>\n",
       "<tr><td>luckily</td><td>meeting</td></tr>\n",
       "<tr><td>meant</td><td>missing</td></tr>\n",
       "<tr><td>meh</td><td>near</td></tr>\n",
       "<tr><td>melt</td><td>normally</td></tr>\n",
       "<tr><td>met</td><td>older</td></tr>\n",
       "<tr><td>middle</td><td>opted</td></tr>\n",
       "<tr><td>moment</td><td>pass</td></tr>\n",
       "<tr><td>nasty</td><td>pastry</td></tr>\n",
       "<tr><td>ny</td><td>paying</td></tr>\n",
       "<tr><td>occasion</td><td>perfection</td></tr>\n",
       "<tr><td>pancake</td><td>person</td></tr>\n",
       "<tr><td>passed</td><td>personal</td></tr>\n",
       "<tr><td>picture</td><td>pink</td></tr>\n",
       "<tr><td>pre</td><td>plan</td></tr>\n",
       "<tr><td>presentation</td><td>played</td></tr>\n",
       "<tr><td>prime</td><td>pleasant</td></tr>\n",
       "<tr><td>promptly</td><td>popular</td></tr>\n",
       "<tr><td>putting</td><td>positive</td></tr>\n",
       "<tr><td>questions</td><td>pretentious</td></tr>\n",
       "<tr><td>realized</td><td>range</td></tr>\n",
       "<tr><td>reasonable</td><td>rave</td></tr>\n",
       "<tr><td>received</td><td>relaxing</td></tr>\n",
       "<tr><td>recommendation</td><td>return</td></tr>\n",
       "<tr><td>refill</td><td>ridiculous</td></tr>\n",
       "<tr><td>refreshing</td><td>satisfying</td></tr>\n",
       "<tr><td>reminded</td><td>saying</td></tr>\n",
       "<tr><td>requested</td><td>says</td></tr>\n",
       "<tr><td>reviewers</td><td>seasoning</td></tr>\n",
       "<tr><td>ricotta</td><td>seated</td></tr>\n",
       "<tr><td>ridiculously</td><td>send</td></tr>\n",
       "<tr><td>rush</td><td>separate</td></tr>\n",
       "<tr><td>similar</td><td>servers</td></tr>\n",
       "<tr><td>simple</td><td>skin</td></tr>\n",
       "<tr><td>situation</td><td>smooth</td></tr>\n",
       "<tr><td>sliced</td><td>soon</td></tr>\n",
       "<tr><td>spending</td><td>spectacular</td></tr>\n",
       "<tr><td>spices</td><td>spent</td></tr>\n",
       "<tr><td>squid</td><td>split</td></tr>\n",
       "<tr><td>strange</td><td>staying</td></tr>\n",
       "<tr><td>strong</td><td>stew</td></tr>\n",
       "<tr><td>students</td><td>strawberry</td></tr>\n",
       "<tr><td>stuffed</td><td>stuck</td></tr>\n",
       "<tr><td>suppose</td><td>student</td></tr>\n",
       "<tr><td>tasting</td><td>superb</td></tr>\n",
       "<tr><td>tempura</td><td>surprise</td></tr>\n",
       "<tr><td>tight</td><td>taken</td></tr>\n",
       "<tr><td>valet</td><td>tartare</td></tr>\n",
       "<tr><td>vanilla</td><td>thanks</td></tr>\n",
       "<tr><td>visit</td><td>tourist</td></tr>\n",
       "<tr><td>visits</td><td>true</td></tr>\n",
       "<tr><td>wanting</td><td>truly</td></tr>\n",
       "<tr><td>weak</td><td>visited</td></tr>\n",
       "<tr><td>weekday</td><td>wants</td></tr>\n",
       "<tr><td>welcoming</td><td>wearing</td></tr>\n",
       "<tr><td>world</td><td>wise</td></tr></tbody></table>"
      ],
      "text/plain": [
       "<IPython.core.display.HTML object>"
      ]
     },
     "execution_count": 34,
     "metadata": {},
     "output_type": "execute_result"
    }
   ],
   "source": [
    "from functools import reduce\n",
    "# get the names of the features\n",
    "feature_names = np.array(vec.get_feature_names())\n",
    "\n",
    "def get_top_features(features, model, level, limit, bottom=False):\n",
    "    \"\"\" Get the top (most likely to see violations) and bottom (least\n",
    "        likely to see violations) features for a given model.\n",
    "        \n",
    "        :param features: an array of the feature names\n",
    "        :param model: a fitted linear regression model\n",
    "        :param level: 0, 1, 2 for *, **, *** violation levels\n",
    "        :param limit: how many features to return\n",
    "        :param worst: if we want the bottom features rather than the top \n",
    "    \"\"\"\n",
    "    # sort order for the coefficients\n",
    "    sorted_coeffs = np.argsort(model.coef_[i])\n",
    "    \n",
    "    if bottom:\n",
    "        # get the features at the end of the sorted list\n",
    "        return features[sorted_coeffs[-1 * limit:]]\n",
    "    else:\n",
    "        # get the features at the beginning of the sorted list\n",
    "        return features[sorted_coeffs[:limit]]\n",
    "    \n",
    "# get the features that indicate we are most and least likely to see violations\n",
    "worst_feature_sets = [get_top_features(feature_names, ols, i, 100) for i in range(3)]\n",
    "best_feature_sets = [get_top_features(feature_names, ols, i, 100, bottom=True) for i in range(3)]\n",
    "\n",
    "# reduce the independent feature sets to just the ones\n",
    "# that we see in common across the per-level models (*, **, ***)\n",
    "worst = reduce(np.intersect1d, best_feature_sets)\n",
    "best = reduce(np.intersect1d, worst_feature_sets)\n",
    "\n",
    "# display as a pretty table\n",
    "html_fmt = \"<table><th>More Violations</th><th>Fewer Violations</th><tbody>{}</tbody></table>\"\n",
    "table_rows = [\"<tr><td>{}</td><td>{}</td></tr>\".format(w, b) for w, b in zip(worst, best)]\n",
    "table_body = \"\\n\".join(table_rows)\n",
    "display.HTML(html_fmt.format(table_body))"
   ]
  },
  {
   "cell_type": "code",
   "execution_count": 35,
   "metadata": {
    "collapsed": true
   },
   "outputs": [],
   "source": [
    "#create the same tfidf matrix for the test set\n",
    "#so we can make predictions based on the same features\n",
    "\n",
    "test_tfidf = vec.transform(test_text)\n",
    "\n",
    "#predict the counts for the test set\n",
    "predictions = ols.predict(test_tfidf)\n",
    "\n",
    "#clip the predictions so they are all greater than or equal to zero\n",
    "# since we can't have negative counts of violations\n",
    "predictions = np.clip(predictions, 0, np.inf)"
   ]
  },
  {
   "cell_type": "code",
   "execution_count": 36,
   "metadata": {
    "collapsed": false
   },
   "outputs": [
    {
     "data": {
      "text/html": [
       "<div>\n",
       "<table border=\"1\" class=\"dataframe\">\n",
       "  <thead>\n",
       "    <tr style=\"text-align: right;\">\n",
       "      <th></th>\n",
       "      <th>date</th>\n",
       "      <th>restaurant_id</th>\n",
       "      <th>*</th>\n",
       "      <th>**</th>\n",
       "      <th>***</th>\n",
       "    </tr>\n",
       "    <tr>\n",
       "      <th>id</th>\n",
       "      <th></th>\n",
       "      <th></th>\n",
       "      <th></th>\n",
       "      <th></th>\n",
       "      <th></th>\n",
       "    </tr>\n",
       "  </thead>\n",
       "  <tbody>\n",
       "    <tr>\n",
       "      <th>14916</th>\n",
       "      <td>2014-12-17</td>\n",
       "      <td>nkOvZOBW</td>\n",
       "      <td>4</td>\n",
       "      <td>0</td>\n",
       "      <td>0</td>\n",
       "    </tr>\n",
       "    <tr>\n",
       "      <th>29767</th>\n",
       "      <td>2013-12-30</td>\n",
       "      <td>WwOaAnOB</td>\n",
       "      <td>4</td>\n",
       "      <td>0</td>\n",
       "      <td>1</td>\n",
       "    </tr>\n",
       "    <tr>\n",
       "      <th>29338</th>\n",
       "      <td>2011-04-08</td>\n",
       "      <td>we39kvOk</td>\n",
       "      <td>3</td>\n",
       "      <td>0</td>\n",
       "      <td>1</td>\n",
       "    </tr>\n",
       "    <tr>\n",
       "      <th>7219</th>\n",
       "      <td>2013-12-30</td>\n",
       "      <td>dj3d5Xo9</td>\n",
       "      <td>2</td>\n",
       "      <td>0</td>\n",
       "      <td>0</td>\n",
       "    </tr>\n",
       "    <tr>\n",
       "      <th>20979</th>\n",
       "      <td>2008-03-31</td>\n",
       "      <td>XJ3rBW3R</td>\n",
       "      <td>4</td>\n",
       "      <td>0</td>\n",
       "      <td>1</td>\n",
       "    </tr>\n",
       "  </tbody>\n",
       "</table>\n",
       "</div>"
      ],
      "text/plain": [
       "             date restaurant_id  *  **  ***\n",
       "id                                         \n",
       "14916  2014-12-17      nkOvZOBW  4   0    0\n",
       "29767  2013-12-30      WwOaAnOB  4   0    1\n",
       "29338  2011-04-08      we39kvOk  3   0    1\n",
       "7219   2013-12-30      dj3d5Xo9  2   0    0\n",
       "20979  2008-03-31      XJ3rBW3R  4   0    1"
      ]
     },
     "execution_count": 36,
     "metadata": {},
     "output_type": "execute_result"
    }
   ],
   "source": [
    "#write the submission file\n",
    "new_submission = submission.copy()\n",
    "new_submission.iloc[:,-3:] = predictions.astype(int)\n",
    "new_submission.to_csv(\"July4th_2.csv\")\n",
    "new_submission.head()"
   ]
  },
  {
   "cell_type": "code",
   "execution_count": null,
   "metadata": {
    "collapsed": true
   },
   "outputs": [],
   "source": []
  }
 ],
 "metadata": {
  "kernelspec": {
   "display_name": "Python 3",
   "language": "python",
   "name": "python3"
  },
  "language_info": {
   "codemirror_mode": {
    "name": "ipython",
    "version": 3
   },
   "file_extension": ".py",
   "mimetype": "text/x-python",
   "name": "python",
   "nbconvert_exporter": "python",
   "pygments_lexer": "ipython3",
   "version": "3.4.3"
  }
 },
 "nbformat": 4,
 "nbformat_minor": 0
}
